{
  "nbformat": 4,
  "nbformat_minor": 0,
  "metadata": {
    "colab": {
      "private_outputs": true,
      "provenance": [],
      "authorship_tag": "ABX9TyPWixNSxx4oOz8Yv+Mwza/x",
      "include_colab_link": true
    },
    "kernelspec": {
      "name": "python3",
      "display_name": "Python 3"
    },
    "language_info": {
      "name": "python"
    }
  },
  "cells": [
    {
      "cell_type": "markdown",
      "metadata": {
        "id": "view-in-github",
        "colab_type": "text"
      },
      "source": [
        "<a href=\"https://colab.research.google.com/github/WellcomePeujio/Simulacion-De-Retiro/blob/main/Planificaci%C3%B3nRetiro.ipynb\" target=\"_parent\"><img src=\"https://colab.research.google.com/assets/colab-badge.svg\" alt=\"Open In Colab\"/></a>"
      ]
    },
    {
      "cell_type": "markdown",
      "source": [
        "# Planificación de Retiro\n",
        "\n",
        "Hoy vamos a hacer un nuevo ejercicio para un nuevo video. En este ejercicio, determinaremos cuánto dinero tendrás al momento de retirarte si ahorras con una tasa de interés compuesta.\n",
        "\n",
        "## Datos:\n",
        "\n",
        "| Parámetro              | Valor  |\n",
        "|------------------------|--------|\n",
        "| Monto Inicial          | \\$5000 |\n",
        "| Contribución Anual     | \\$2400 |\n",
        "| Tasa de Interés Anual  | 4.5%   |\n",
        "| Número de Años         | 30     |\n",
        "\n",
        "## Se pide:\n",
        "\n",
        "1. **Calcular el valor futuro de los ahorros al momento del retiro.**\n",
        "2. **Analizar el impacto de aumentar la tasa de interés al 5% en el valor futuro.**"
      ],
      "metadata": {
        "id": "kLVUiKj3anOo"
      }
    },
    {
      "cell_type": "markdown",
      "source": [
        "# Planificación de Retiro\n",
        "\n",
        "## Resolución Matemática\n",
        "\n",
        "Vamos a calcular el valor futuro de los ahorros utilizando la fórmula del valor futuro con interés compuesto.\n",
        "\n",
        "### Fórmula del Valor Futuro\n",
        "\n",
        "El valor futuro \\(FV\\) de los ahorros con interés compuesto se calcula con la siguiente fórmula:\n",
        "\n",
        "$$\n",
        "FV = P \\times (1 + r)^n + \\frac{C \\times [(1 + r)^n - 1]}{r}\n",
        "$$\n",
        "\n",
        "Donde:\n",
        "- \\( P \\) es el monto inicial (\\$5000)\n",
        "- \\( C \\) es la contribución anual (\\$2400)\n",
        "- \\( r \\) es la tasa de interés anual\n",
        "- \\( n \\) es el número de años (30 años)\n",
        "\n",
        "### Cálculo del Valor Futuro con 4.5% de Interés\n",
        "\n",
        "Primero, calculamos el valor futuro usando la tasa de interés del 4.5%:\n",
        "\n",
        "- \\( P = 5000 \\)\n",
        "- \\( C = 2400 \\)\n",
        "- \\$( r = \\frac{4.5}{100} = 0.045 \\)$\n",
        "- \\( n = 30 \\)\n",
        "\n",
        "Sustituyendo los valores en la fórmula:\n",
        "\n",
        "$$\n",
        "FV_{4.5\\%} = 5000 \\times (1 + 0.045)^{30} + \\frac{2400 \\times [(1 + 0.045)^{30} - 1]}{0.045}\n",
        "$$\n",
        "\n",
        "Calculando los términos:\n",
        "\n",
        "$$\n",
        "FV_{4.5\\%} = 5000 \\times (1.045)^{30} + \\frac{2400 \\times [(1.045)^{30} - 1]}{0.045}\n",
        "$$\n",
        "\n",
        "$$\n",
        "FV_{4.5\\%} \\approx 5000 \\times 3.8061 + \\frac{2400 \\times 2.8061}{0.045}\n",
        "$$\n",
        "\n",
        "$$\n",
        "FV_{4.5\\%} \\approx 19030.5 + 149780.67\n",
        "$$\n",
        "\n",
        "$$\n",
        "FV_{4.5\\%} \\approx 168811.17\n",
        "$$\n",
        "\n",
        "Por lo tanto, el valor futuro de los ahorros al 4.5% es aproximadamente \\$168,811.17.\n",
        "\n",
        "### Cálculo del Valor Futuro con 5% de Interés\n",
        "\n",
        "Ahora calculamos el valor futuro usando la tasa de interés del 5%:\n",
        "\n",
        "- \\$( r = \\frac{5}{100} = 0.05 \\)$\n",
        "\n",
        "Sustituyendo en la fórmula:\n",
        "\n",
        "$$\n",
        "FV_{5\\%} = 5000 \\times (1 + 0.05)^{30} + \\frac{2400 \\times [(1 + 0.05)^{30} - 1]}{0.05}\n",
        "$$\n",
        "\n",
        "Calculando los términos:\n",
        "\n",
        "$$\n",
        "FV_{5\\%} = 5000 \\times (1.05)^{30} + \\frac{2400 \\times [(1.05)^{30} - 1]}{0.05}\n",
        "$$\n",
        "\n",
        "$$\n",
        "FV_{5\\%} \\approx 5000 \\times 4.3219 + \\frac{2400 \\times 3.3219}{0.05}\n",
        "$$\n",
        "\n",
        "$$\n",
        "FV_{5\\%} \\approx 21609.5 + 159451.2\n",
        "$$\n",
        "\n",
        "$$\n",
        "FV_{5\\%} \\approx 181060.7\n",
        "$$\n",
        "\n",
        "Por lo tanto, el valor futuro de los ahorros al 5% es aproximadamente \\$181,060.70."
      ],
      "metadata": {
        "id": "dJMZL8XPfXIN"
      }
    },
    {
      "cell_type": "code",
      "source": [
        "import numpy as np\n",
        "import matplotlib.pyplot as plt\n",
        "\n",
        "# Parámetros del problema\n",
        "P = 5000  # Monto inicial en dólares\n",
        "C = 2400  # Contribución anual en dólares\n",
        "n = 30  # Número de años\n",
        "\n",
        "# Tasa de interés 4.5%\n",
        "r1 = 0.045\n",
        "\n",
        "# Tasa de interés 5%\n",
        "r2 = 0.05\n",
        "\n",
        "# Cálculo del valor futuro con la tasa del 4.5%\n",
        "FV_4_5 = P * (1 + r1)**n + (C * ((1 + r1)**n - 1) / r1)\n",
        "\n",
        "# Cálculo del valor futuro con la tasa del 5%\n",
        "FV_5 = P * (1 + r2)**n + (C * ((1 + r2)**n - 1) / r2)\n",
        "\n",
        "# Imprimir los resultados\n",
        "print(\"Valor futuro con tasa del 4.5%: $\", round(FV_4_5, 2))\n",
        "print(\"Valor futuro con tasa del 5%: $\", round(FV_5, 2))\n",
        "\n",
        "# Gráfico comparativo de los valores futuros\n",
        "años = np.arange(1, n+1)\n",
        "FV_acumulado_4_5 = P * (1 + r1)**años + (C * ((1 + r1)**años - 1) / r1)\n",
        "FV_acumulado_5 = P * (1 + r2)**años + (C * ((1 + r2)**años - 1) / r2)\n",
        "\n",
        "plt.figure(figsize=(10, 6))\n",
        "plt.plot(años, FV_acumulado_4_5, label='Tasa 4.5%')\n",
        "plt.plot(años, FV_acumulado_5, label='Tasa 5%', linestyle='--')\n",
        "plt.title('Comparación del Valor Futuro de los Ahorros')\n",
        "plt.xlabel('Años')\n",
        "plt.ylabel('Valor Futuro ($)')\n",
        "plt.legend()\n",
        "plt.grid(True)\n",
        "plt.show()"
      ],
      "metadata": {
        "collapsed": true,
        "id": "KiClaB3RgHqy"
      },
      "execution_count": null,
      "outputs": []
    },
    {
      "cell_type": "markdown",
      "source": [
        "## Conclusión de la Comparación\n",
        "\n",
        "Al comparar los valores futuros de los ahorros con tasas de interés del 4.5% y 5%, observamos que un aumento en la tasa de interés produce un incremento significativo en el valor futuro de los ahorros.\n",
        "\n",
        "Con una tasa del 4.5%, el valor futuro es de aproximadamente \\$168,811.17, mientras que con una tasa del 5%, el valor futuro asciende a aproximadamente \\$181,060.70.\n",
        "\n",
        "Esto demuestra la importancia de incluso pequeñas diferencias en las tasas de interés cuando se trata de inversiones a largo plazo. Un pequeño incremento en la tasa de interés puede resultar en una diferencia considerable en la acumulación de ahorros, destacando la relevancia de buscar las mejores tasas posibles al planificar para el futuro."
      ],
      "metadata": {
        "id": "fXBOCBHRhsBw"
      }
    }
  ]
}